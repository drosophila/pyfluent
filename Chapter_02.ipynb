{
 "cells": [
  {
   "cell_type": "code",
   "execution_count": 3,
   "metadata": {},
   "outputs": [],
   "source": [
    "from collections import namedtuple"
   ]
  },
  {
   "cell_type": "code",
   "execution_count": 11,
   "metadata": {},
   "outputs": [],
   "source": [
    "City = namedtuple('City', 'name country population coordinates climate')"
   ]
  },
  {
   "cell_type": "code",
   "execution_count": 13,
   "metadata": {},
   "outputs": [],
   "source": [
    "tokyo = City('Tokyo', 'Japan', 36.99, (35.2, 139.0), 'temperate')"
   ]
  },
  {
   "cell_type": "code",
   "execution_count": 14,
   "metadata": {},
   "outputs": [
    {
     "data": {
      "text/plain": [
       "City(name='Tokyo', country='Japan', population=36.99, coordinates=(35.2, 139.0), climate='temperate')"
      ]
     },
     "execution_count": 14,
     "metadata": {},
     "output_type": "execute_result"
    }
   ],
   "source": [
    "tokyo"
   ]
  },
  {
   "cell_type": "code",
   "execution_count": 15,
   "metadata": {},
   "outputs": [],
   "source": [
    "lima = City('lima', 'Peru', 22.5, (45.3, 14.1), 'hot')"
   ]
  },
  {
   "cell_type": "code",
   "execution_count": 16,
   "metadata": {},
   "outputs": [
    {
     "data": {
      "text/plain": [
       "City(name='lima', country='Peru', population=22.5, coordinates=(45.3, 14.1), climate='hot')"
      ]
     },
     "execution_count": 16,
     "metadata": {},
     "output_type": "execute_result"
    }
   ],
   "source": [
    "lima"
   ]
  },
  {
   "cell_type": "code",
   "execution_count": 17,
   "metadata": {},
   "outputs": [
    {
     "data": {
      "text/plain": [
       "('name', 'country', 'population', 'coordinates', 'climate')"
      ]
     },
     "execution_count": 17,
     "metadata": {},
     "output_type": "execute_result"
    }
   ],
   "source": [
    "lima._fields"
   ]
  },
  {
   "cell_type": "code",
   "execution_count": 18,
   "metadata": {},
   "outputs": [],
   "source": [
    "new_delhi = ('delhi', 'India', 70, (56,22), 'equatorial')"
   ]
  },
  {
   "cell_type": "code",
   "execution_count": 19,
   "metadata": {},
   "outputs": [],
   "source": [
    "delhi = City._make(new_delhi)"
   ]
  },
  {
   "cell_type": "code",
   "execution_count": 20,
   "metadata": {},
   "outputs": [
    {
     "data": {
      "text/plain": [
       "City(name='delhi', country='India', population=70, coordinates=(56, 22), climate='equatorial')"
      ]
     },
     "execution_count": 20,
     "metadata": {},
     "output_type": "execute_result"
    }
   ],
   "source": [
    "delhi"
   ]
  },
  {
   "cell_type": "code",
   "execution_count": 22,
   "metadata": {},
   "outputs": [
    {
     "data": {
      "text/plain": [
       "OrderedDict([('name', 'delhi'),\n",
       "             ('country', 'India'),\n",
       "             ('population', 70),\n",
       "             ('coordinates', (56, 22)),\n",
       "             ('climate', 'equatorial')])"
      ]
     },
     "execution_count": 22,
     "metadata": {},
     "output_type": "execute_result"
    }
   ],
   "source": [
    "delhi._asdict()"
   ]
  },
  {
   "cell_type": "code",
   "execution_count": 9,
   "metadata": {},
   "outputs": [
    {
     "data": {
      "text/plain": [
       "['__add__',\n",
       " '__class__',\n",
       " '__contains__',\n",
       " '__delattr__',\n",
       " '__dir__',\n",
       " '__doc__',\n",
       " '__eq__',\n",
       " '__format__',\n",
       " '__ge__',\n",
       " '__getattribute__',\n",
       " '__getitem__',\n",
       " '__getnewargs__',\n",
       " '__gt__',\n",
       " '__hash__',\n",
       " '__init__',\n",
       " '__init_subclass__',\n",
       " '__iter__',\n",
       " '__le__',\n",
       " '__len__',\n",
       " '__lt__',\n",
       " '__module__',\n",
       " '__mul__',\n",
       " '__ne__',\n",
       " '__new__',\n",
       " '__reduce__',\n",
       " '__reduce_ex__',\n",
       " '__repr__',\n",
       " '__rmul__',\n",
       " '__setattr__',\n",
       " '__sizeof__',\n",
       " '__slots__',\n",
       " '__str__',\n",
       " '__subclasshook__',\n",
       " '_asdict',\n",
       " '_fields',\n",
       " '_make',\n",
       " '_replace',\n",
       " '_source',\n",
       " 'coordinates',\n",
       " 'count',\n",
       " 'country',\n",
       " 'index',\n",
       " 'name',\n",
       " 'population']"
      ]
     },
     "execution_count": 9,
     "metadata": {},
     "output_type": "execute_result"
    }
   ],
   "source": [
    "dir(lima)"
   ]
  },
  {
   "cell_type": "markdown",
   "metadata": {},
   "source": [
    "&nbsp;\n",
    "\n",
    "### slice ids"
   ]
  },
  {
   "cell_type": "code",
   "execution_count": 2,
   "metadata": {},
   "outputs": [
    {
     "data": {
      "text/plain": [
       "1401600716104"
      ]
     },
     "execution_count": 2,
     "metadata": {},
     "output_type": "execute_result"
    }
   ],
   "source": [
    "l = [1,2,5,0,8,3,5,7]\n",
    "id(l)"
   ]
  },
  {
   "cell_type": "code",
   "execution_count": 3,
   "metadata": {},
   "outputs": [
    {
     "data": {
      "text/plain": [
       "[8, 3, 5, 7]"
      ]
     },
     "execution_count": 3,
     "metadata": {},
     "output_type": "execute_result"
    }
   ],
   "source": [
    "l_1 = l[4:]\n",
    "l_1"
   ]
  },
  {
   "cell_type": "code",
   "execution_count": 4,
   "metadata": {},
   "outputs": [
    {
     "data": {
      "text/plain": [
       "1401601140104"
      ]
     },
     "execution_count": 4,
     "metadata": {},
     "output_type": "execute_result"
    }
   ],
   "source": [
    "id(l_1)"
   ]
  },
  {
   "cell_type": "code",
   "execution_count": 6,
   "metadata": {},
   "outputs": [],
   "source": [
    "l_1 = l[4:].copy()"
   ]
  },
  {
   "cell_type": "code",
   "execution_count": 7,
   "metadata": {},
   "outputs": [
    {
     "data": {
      "text/plain": [
       "1401601082120"
      ]
     },
     "execution_count": 7,
     "metadata": {},
     "output_type": "execute_result"
    }
   ],
   "source": [
    "id(l_1)"
   ]
  },
  {
   "cell_type": "markdown",
   "metadata": {},
   "source": [
    "&nbsp;\n",
    "\n",
    "### list.sort and sorted methods"
   ]
  },
  {
   "cell_type": "code",
   "execution_count": 22,
   "metadata": {},
   "outputs": [],
   "source": [
    "str_ = ['string', 'Blender', 'slo', 'MARTIN', 'stacia']\n",
    "str_1 = ['string', 'Blender', 'slo', 'MARTIN', 'stacia']"
   ]
  },
  {
   "cell_type": "code",
   "execution_count": 23,
   "metadata": {},
   "outputs": [],
   "source": [
    "str_.sort()"
   ]
  },
  {
   "cell_type": "code",
   "execution_count": 24,
   "metadata": {},
   "outputs": [
    {
     "data": {
      "text/plain": [
       "['Blender', 'MARTIN', 'slo', 'stacia', 'string']"
      ]
     },
     "execution_count": 24,
     "metadata": {},
     "output_type": "execute_result"
    }
   ],
   "source": [
    "str_"
   ]
  },
  {
   "cell_type": "code",
   "execution_count": 25,
   "metadata": {},
   "outputs": [],
   "source": [
    "str_.append('michael')"
   ]
  },
  {
   "cell_type": "code",
   "execution_count": 26,
   "metadata": {},
   "outputs": [
    {
     "data": {
      "text/plain": [
       "['Blender', 'MARTIN', 'slo', 'stacia', 'string', 'michael']"
      ]
     },
     "execution_count": 26,
     "metadata": {},
     "output_type": "execute_result"
    }
   ],
   "source": [
    "str_"
   ]
  },
  {
   "cell_type": "code",
   "execution_count": 37,
   "metadata": {},
   "outputs": [
    {
     "data": {
      "text/plain": [
       "['Blender', 'MARTIN', 'slo', 'stacia', 'string']"
      ]
     },
     "execution_count": 37,
     "metadata": {},
     "output_type": "execute_result"
    }
   ],
   "source": [
    "sorted(str_1)"
   ]
  },
  {
   "cell_type": "code",
   "execution_count": 40,
   "metadata": {},
   "outputs": [],
   "source": [
    "import dis"
   ]
  },
  {
   "cell_type": "code",
   "execution_count": 42,
   "metadata": {},
   "outputs": [
    {
     "name": "stdout",
     "output_type": "stream",
     "text": [
      "  1           0 LOAD_NAME                0 (sorted)\n",
      "              2 LOAD_NAME                1 (str_1)\n",
      "              4 CALL_FUNCTION            1\n",
      "              6 LOAD_ATTR                2 (append)\n",
      "              8 LOAD_CONST               0 ('michael')\n",
      "             10 CALL_FUNCTION            1\n",
      "             12 RETURN_VALUE\n"
     ]
    }
   ],
   "source": [
    "dis.dis(\"sorted(str_1).append('michael')\")"
   ]
  },
  {
   "cell_type": "markdown",
   "metadata": {},
   "source": [
    "instance methods that return a None object cannot be cascaded. "
   ]
  },
  {
   "cell_type": "markdown",
   "metadata": {},
   "source": [
    "&nbsp;\n",
    "\n",
    "bisect and insort"
   ]
  },
  {
   "cell_type": "code",
   "execution_count": 39,
   "metadata": {},
   "outputs": [],
   "source": [
    "from bisect import bisect, insort\n",
    "import random"
   ]
  },
  {
   "cell_type": "code",
   "execution_count": 56,
   "metadata": {},
   "outputs": [
    {
     "name": "stdout",
     "output_type": "stream",
     "text": [
      "0 [9, 37]\n",
      "2 [9, 37, 96]\n",
      "2 [9, 37, 74, 96]\n",
      "1 [9, 9, 37, 74, 96]\n",
      "3 [9, 9, 37, 52, 74, 96]\n",
      "3 [9, 9, 37, 48, 52, 74, 96]\n",
      "0 [6, 9, 9, 37, 48, 52, 74, 96]\n",
      "5 [6, 9, 9, 37, 48, 51, 52, 74, 96]\n",
      "8 [6, 9, 9, 37, 48, 51, 52, 74, 85, 96]\n",
      "0 [5, 6, 9, 9, 37, 48, 51, 52, 74, 85, 96]\n",
      "4 [5, 6, 9, 9, 11, 37, 48, 51, 52, 74, 85, 96]\n",
      "5 [5, 6, 9, 9, 11, 33, 37, 48, 51, 52, 74, 85, 96]\n",
      "6 [5, 6, 9, 9, 11, 33, 36, 37, 48, 51, 52, 74, 85, 96]\n",
      "11 [5, 6, 9, 9, 11, 33, 36, 37, 48, 51, 52, 60, 74, 85, 96]\n",
      "13 [5, 6, 9, 9, 11, 33, 36, 37, 48, 51, 52, 60, 74, 75, 85, 96]\n",
      "10 [5, 6, 9, 9, 11, 33, 36, 37, 48, 51, 51, 52, 60, 74, 75, 85, 96]\n",
      "13 [5, 6, 9, 9, 11, 33, 36, 37, 48, 51, 51, 52, 60, 73, 74, 75, 85, 96]\n",
      "5 [5, 6, 9, 9, 11, 22, 33, 36, 37, 48, 51, 51, 52, 60, 73, 74, 75, 85, 96]\n",
      "1 [5, 5, 6, 9, 9, 11, 22, 33, 36, 37, 48, 51, 51, 52, 60, 73, 74, 75, 85, 96]\n",
      "19 [5, 5, 6, 9, 9, 11, 22, 33, 36, 37, 48, 51, 51, 52, 60, 73, 74, 75, 85, 95, 96]\n",
      "0 [1, 5, 5, 6, 9, 9, 11, 22, 33, 36, 37, 48, 51, 51, 52, 60, 73, 74, 75, 85, 95, 96]\n",
      "22 [1, 5, 5, 6, 9, 9, 11, 22, 33, 36, 37, 48, 51, 51, 52, 60, 73, 74, 75, 85, 95, 96, 97]\n",
      "16 [1, 5, 5, 6, 9, 9, 11, 22, 33, 36, 37, 48, 51, 51, 52, 60, 66, 73, 74, 75, 85, 95, 96, 97]\n",
      "7 [1, 5, 5, 6, 9, 9, 11, 16, 22, 33, 36, 37, 48, 51, 51, 52, 60, 66, 73, 74, 75, 85, 95, 96, 97]\n",
      "8 [1, 5, 5, 6, 9, 9, 11, 16, 21, 22, 33, 36, 37, 48, 51, 51, 52, 60, 66, 73, 74, 75, 85, 95, 96, 97]\n",
      "13 [1, 5, 5, 6, 9, 9, 11, 16, 21, 22, 33, 36, 37, 46, 48, 51, 51, 52, 60, 66, 73, 74, 75, 85, 95, 96, 97]\n",
      "18 [1, 5, 5, 6, 9, 9, 11, 16, 21, 22, 33, 36, 37, 46, 48, 51, 51, 52, 53, 60, 66, 73, 74, 75, 85, 95, 96, 97]\n",
      "10 [1, 5, 5, 6, 9, 9, 11, 16, 21, 22, 31, 33, 36, 37, 46, 48, 51, 51, 52, 53, 60, 66, 73, 74, 75, 85, 95, 96, 97]\n",
      "16 [1, 5, 5, 6, 9, 9, 11, 16, 21, 22, 31, 33, 36, 37, 46, 48, 48, 51, 51, 52, 53, 60, 66, 73, 74, 75, 85, 95, 96, 97]\n",
      "10 [1, 5, 5, 6, 9, 9, 11, 16, 21, 22, 26, 31, 33, 36, 37, 46, 48, 48, 51, 51, 52, 53, 60, 66, 73, 74, 75, 85, 95, 96, 97]\n"
     ]
    }
   ],
   "source": [
    "a = [random.randint(1,1000)]\n",
    "for i in range(30):\n",
    "    int_ = random.randint(1,100)\n",
    "    index = bisect(a, int_)\n",
    "    insort(a, int_)\n",
    "    print(index, '{}'.format(a))"
   ]
  },
  {
   "cell_type": "code",
   "execution_count": 51,
   "metadata": {},
   "outputs": [],
   "source": [
    "a = [random.randint(1,1000)]"
   ]
  },
  {
   "cell_type": "code",
   "execution_count": 52,
   "metadata": {},
   "outputs": [
    {
     "data": {
      "text/plain": [
       "[512]"
      ]
     },
     "execution_count": 52,
     "metadata": {},
     "output_type": "execute_result"
    }
   ],
   "source": [
    "a"
   ]
  },
  {
   "cell_type": "code",
   "execution_count": 33,
   "metadata": {},
   "outputs": [],
   "source": [
    "insort(a,13)"
   ]
  },
  {
   "cell_type": "code",
   "execution_count": 34,
   "metadata": {},
   "outputs": [
    {
     "data": {
      "text/plain": [
       "[1, 2, 3, 5, 6, 9, 10, 13, 14, 14, 77]"
      ]
     },
     "execution_count": 34,
     "metadata": {},
     "output_type": "execute_result"
    }
   ],
   "source": [
    "a"
   ]
  },
  {
   "cell_type": "code",
   "execution_count": null,
   "metadata": {},
   "outputs": [],
   "source": []
  }
 ],
 "metadata": {
  "kernelspec": {
   "display_name": "Python 3",
   "language": "python",
   "name": "python3"
  },
  "language_info": {
   "codemirror_mode": {
    "name": "ipython",
    "version": 3
   },
   "file_extension": ".py",
   "mimetype": "text/x-python",
   "name": "python",
   "nbconvert_exporter": "python",
   "pygments_lexer": "ipython3",
   "version": "3.7.5"
  }
 },
 "nbformat": 4,
 "nbformat_minor": 4
}
